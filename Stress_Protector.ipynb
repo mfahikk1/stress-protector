{
  "cells": [
    {
      "cell_type": "markdown",
      "metadata": {
        "id": "wM4z5ECSUxMw"
      },
      "source": [
        "# Project Title      : Stress Protector"
      ]
    },
    {
      "cell_type": "markdown",
      "metadata": {
        "id": "t1Dkb42QUxMz"
      },
      "source": [
        "\n",
        "\n",
        "*   Employer ID       : 2213144\n",
        "*   Company Email     : mf22640@essex.ac.uk\n",
        "*   Personal Email    : mfahikk1@gmail.com\n",
        "*   Mobile No         : 07482449083\n",
        "\n",
        "\n",
        "\n",
        "\n"
      ]
    },
    {
      "cell_type": "markdown",
      "metadata": {
        "id": "SPMtROSTfIX7"
      },
      "source": [
        "##Importing Libraries and dataset"
      ]
    },
    {
      "cell_type": "code",
      "execution_count": 28,
      "metadata": {
        "id": "Aks2KA_cUxMz"
      },
      "outputs": [],
      "source": [
        "#importing libraries\n",
        "import pandas as pd\n",
        "import numpy as np\n",
        "import matplotlib.pyplot as plt\n",
        "import seaborn as sns\n",
        "\n",
        "from scipy import stats\n",
        "\n",
        "from sklearn.preprocessing import StandardScaler\n",
        "from sklearn.preprocessing import MinMaxScaler\n",
        "from sklearn.model_selection import train_test_split\n",
        "from sklearn.model_selection import cross_val_score\n",
        "\n",
        "from sklearn.linear_model import LogisticRegression\n",
        "from sklearn.ensemble import RandomForestClassifier\n",
        "from sklearn.svm import SVC\n",
        "\n",
        "\n",
        "from sklearn.metrics import classification_report\n",
        "from sklearn.metrics import accuracy_score, f1_score, precision_score, recall_score\n",
        "from sklearn.metrics._plot.confusion_matrix import confusion_matrix\n",
        "\n",
        "\n",
        "from imblearn.under_sampling import RandomUnderSampler\n",
        "\n",
        "from keras.layers import Dense, Dropout\n",
        "from tensorflow.keras.optimizers import SGD\n",
        "from tensorflow.keras import regularizers\n",
        "from tensorflow.keras.models import Sequential\n",
        "from tensorflow.keras.layers import Dense, Conv2D, MaxPooling2D, Flatten, Dropout\n",
        "from tensorflow.keras.optimizers import Adam\n",
        "\n",
        "from keras.utils import to_categorical"
      ]
    },
    {
      "cell_type": "code",
      "execution_count": 58,
      "metadata": {
        "colab": {
          "base_uri": "https://localhost:8080/",
          "height": 206
        },
        "id": "5gIeRhstUxM1",
        "outputId": "4c5776ec-fdbe-4ed3-d553-4bb226cd9876"
      },
      "outputs": [
        {
          "data": {
            "text/html": [
              "\n",
              "  <div id=\"df-68d791e7-e88c-4499-a18e-893b9f342370\">\n",
              "    <div class=\"colab-df-container\">\n",
              "      <div>\n",
              "<style scoped>\n",
              "    .dataframe tbody tr th:only-of-type {\n",
              "        vertical-align: middle;\n",
              "    }\n",
              "\n",
              "    .dataframe tbody tr th {\n",
              "        vertical-align: top;\n",
              "    }\n",
              "\n",
              "    .dataframe thead th {\n",
              "        text-align: right;\n",
              "    }\n",
              "</style>\n",
              "<table border=\"1\" class=\"dataframe\">\n",
              "  <thead>\n",
              "    <tr style=\"text-align: right;\">\n",
              "      <th></th>\n",
              "      <th>X</th>\n",
              "      <th>Y</th>\n",
              "      <th>Z</th>\n",
              "      <th>EDA</th>\n",
              "      <th>HR</th>\n",
              "      <th>TEMP</th>\n",
              "      <th>id</th>\n",
              "      <th>datetime</th>\n",
              "      <th>label</th>\n",
              "    </tr>\n",
              "  </thead>\n",
              "  <tbody>\n",
              "    <tr>\n",
              "      <th>0</th>\n",
              "      <td>-73.0</td>\n",
              "      <td>13.0</td>\n",
              "      <td>2.0</td>\n",
              "      <td>0.454517</td>\n",
              "      <td>81.05</td>\n",
              "      <td>30.57</td>\n",
              "      <td>6B</td>\n",
              "      <td>2020-06-23 16:10:21.937499904</td>\n",
              "      <td>0.0</td>\n",
              "    </tr>\n",
              "    <tr>\n",
              "      <th>1</th>\n",
              "      <td>-89.0</td>\n",
              "      <td>-41.0</td>\n",
              "      <td>-17.0</td>\n",
              "      <td>0.425336</td>\n",
              "      <td>79.20</td>\n",
              "      <td>30.51</td>\n",
              "      <td>6B</td>\n",
              "      <td>2020-06-23 16:08:05.375000064</td>\n",
              "      <td>0.0</td>\n",
              "    </tr>\n",
              "    <tr>\n",
              "      <th>2</th>\n",
              "      <td>-42.0</td>\n",
              "      <td>-15.0</td>\n",
              "      <td>44.0</td>\n",
              "      <td>0.367454</td>\n",
              "      <td>64.42</td>\n",
              "      <td>29.93</td>\n",
              "      <td>6B</td>\n",
              "      <td>2020-06-23 15:51:32.312499968</td>\n",
              "      <td>0.0</td>\n",
              "    </tr>\n",
              "    <tr>\n",
              "      <th>3</th>\n",
              "      <td>-54.0</td>\n",
              "      <td>-9.0</td>\n",
              "      <td>-38.0</td>\n",
              "      <td>0.376417</td>\n",
              "      <td>81.43</td>\n",
              "      <td>30.61</td>\n",
              "      <td>6B</td>\n",
              "      <td>2020-06-23 16:10:33.906249984</td>\n",
              "      <td>0.0</td>\n",
              "    </tr>\n",
              "    <tr>\n",
              "      <th>4</th>\n",
              "      <td>-57.0</td>\n",
              "      <td>-9.0</td>\n",
              "      <td>31.0</td>\n",
              "      <td>0.000000</td>\n",
              "      <td>88.88</td>\n",
              "      <td>30.05</td>\n",
              "      <td>6B</td>\n",
              "      <td>2020-06-23 15:53:47.593750016</td>\n",
              "      <td>0.0</td>\n",
              "    </tr>\n",
              "  </tbody>\n",
              "</table>\n",
              "</div>\n",
              "      <button class=\"colab-df-convert\" onclick=\"convertToInteractive('df-68d791e7-e88c-4499-a18e-893b9f342370')\"\n",
              "              title=\"Convert this dataframe to an interactive table.\"\n",
              "              style=\"display:none;\">\n",
              "        \n",
              "  <svg xmlns=\"http://www.w3.org/2000/svg\" height=\"24px\"viewBox=\"0 0 24 24\"\n",
              "       width=\"24px\">\n",
              "    <path d=\"M0 0h24v24H0V0z\" fill=\"none\"/>\n",
              "    <path d=\"M18.56 5.44l.94 2.06.94-2.06 2.06-.94-2.06-.94-.94-2.06-.94 2.06-2.06.94zm-11 1L8.5 8.5l.94-2.06 2.06-.94-2.06-.94L8.5 2.5l-.94 2.06-2.06.94zm10 10l.94 2.06.94-2.06 2.06-.94-2.06-.94-.94-2.06-.94 2.06-2.06.94z\"/><path d=\"M17.41 7.96l-1.37-1.37c-.4-.4-.92-.59-1.43-.59-.52 0-1.04.2-1.43.59L10.3 9.45l-7.72 7.72c-.78.78-.78 2.05 0 2.83L4 21.41c.39.39.9.59 1.41.59.51 0 1.02-.2 1.41-.59l7.78-7.78 2.81-2.81c.8-.78.8-2.07 0-2.86zM5.41 20L4 18.59l7.72-7.72 1.47 1.35L5.41 20z\"/>\n",
              "  </svg>\n",
              "      </button>\n",
              "      \n",
              "  <style>\n",
              "    .colab-df-container {\n",
              "      display:flex;\n",
              "      flex-wrap:wrap;\n",
              "      gap: 12px;\n",
              "    }\n",
              "\n",
              "    .colab-df-convert {\n",
              "      background-color: #E8F0FE;\n",
              "      border: none;\n",
              "      border-radius: 50%;\n",
              "      cursor: pointer;\n",
              "      display: none;\n",
              "      fill: #1967D2;\n",
              "      height: 32px;\n",
              "      padding: 0 0 0 0;\n",
              "      width: 32px;\n",
              "    }\n",
              "\n",
              "    .colab-df-convert:hover {\n",
              "      background-color: #E2EBFA;\n",
              "      box-shadow: 0px 1px 2px rgba(60, 64, 67, 0.3), 0px 1px 3px 1px rgba(60, 64, 67, 0.15);\n",
              "      fill: #174EA6;\n",
              "    }\n",
              "\n",
              "    [theme=dark] .colab-df-convert {\n",
              "      background-color: #3B4455;\n",
              "      fill: #D2E3FC;\n",
              "    }\n",
              "\n",
              "    [theme=dark] .colab-df-convert:hover {\n",
              "      background-color: #434B5C;\n",
              "      box-shadow: 0px 1px 3px 1px rgba(0, 0, 0, 0.15);\n",
              "      filter: drop-shadow(0px 1px 2px rgba(0, 0, 0, 0.3));\n",
              "      fill: #FFFFFF;\n",
              "    }\n",
              "  </style>\n",
              "\n",
              "      <script>\n",
              "        const buttonEl =\n",
              "          document.querySelector('#df-68d791e7-e88c-4499-a18e-893b9f342370 button.colab-df-convert');\n",
              "        buttonEl.style.display =\n",
              "          google.colab.kernel.accessAllowed ? 'block' : 'none';\n",
              "\n",
              "        async function convertToInteractive(key) {\n",
              "          const element = document.querySelector('#df-68d791e7-e88c-4499-a18e-893b9f342370');\n",
              "          const dataTable =\n",
              "            await google.colab.kernel.invokeFunction('convertToInteractive',\n",
              "                                                     [key], {});\n",
              "          if (!dataTable) return;\n",
              "\n",
              "          const docLinkHtml = 'Like what you see? Visit the ' +\n",
              "            '<a target=\"_blank\" href=https://colab.research.google.com/notebooks/data_table.ipynb>data table notebook</a>'\n",
              "            + ' to learn more about interactive tables.';\n",
              "          element.innerHTML = '';\n",
              "          dataTable['output_type'] = 'display_data';\n",
              "          await google.colab.output.renderOutput(dataTable, element);\n",
              "          const docLink = document.createElement('div');\n",
              "          docLink.innerHTML = docLinkHtml;\n",
              "          element.appendChild(docLink);\n",
              "        }\n",
              "      </script>\n",
              "    </div>\n",
              "  </div>\n",
              "  "
            ],
            "text/plain": [
              "      X     Y     Z       EDA     HR   TEMP  id  \\\n",
              "0 -73.0  13.0   2.0  0.454517  81.05  30.57  6B   \n",
              "1 -89.0 -41.0 -17.0  0.425336  79.20  30.51  6B   \n",
              "2 -42.0 -15.0  44.0  0.367454  64.42  29.93  6B   \n",
              "3 -54.0  -9.0 -38.0  0.376417  81.43  30.61  6B   \n",
              "4 -57.0  -9.0  31.0  0.000000  88.88  30.05  6B   \n",
              "\n",
              "                        datetime  label  \n",
              "0  2020-06-23 16:10:21.937499904    0.0  \n",
              "1  2020-06-23 16:08:05.375000064    0.0  \n",
              "2  2020-06-23 15:51:32.312499968    0.0  \n",
              "3  2020-06-23 16:10:33.906249984    0.0  \n",
              "4  2020-06-23 15:53:47.593750016    0.0  "
            ]
          },
          "execution_count": 58,
          "metadata": {},
          "output_type": "execute_result"
        }
      ],
      "source": [
        "df = pd.read_csv('/content/merged_data_labeled.csv')\n",
        "df.head()"
      ]
    },
    {
      "cell_type": "markdown",
      "metadata": {
        "id": "QgBRIO6KgOOR"
      },
      "source": [
        "##Data Exploration"
      ]
    },
    {
      "cell_type": "code",
      "execution_count": 30,
      "metadata": {
        "colab": {
          "base_uri": "https://localhost:8080/"
        },
        "id": "fwu33787UxM1",
        "outputId": "4800bbad-0689-4983-e98b-2549af1690d9"
      },
      "outputs": [
        {
          "data": {
            "text/plain": [
              "array(['6B', '8B', 'CE', 'EG', '83', 'E4', '6D', 'DF', 'BG', '5C', 'F5',\n",
              "       '15', '7A', '7E', '94'], dtype=object)"
            ]
          },
          "execution_count": 30,
          "metadata": {},
          "output_type": "execute_result"
        }
      ],
      "source": [
        "df['id'].unique()"
      ]
    },
    {
      "cell_type": "code",
      "execution_count": 31,
      "metadata": {
        "colab": {
          "base_uri": "https://localhost:8080/"
        },
        "id": "Tej3DXYxUxM2",
        "outputId": "c6f10f65-22f0-4f7c-d4ac-730a4ad5767c"
      },
      "outputs": [
        {
          "data": {
            "text/plain": [
              "False"
            ]
          },
          "execution_count": 31,
          "metadata": {},
          "output_type": "execute_result"
        }
      ],
      "source": [
        "df.isnull().values.any()"
      ]
    },
    {
      "cell_type": "code",
      "execution_count": 32,
      "metadata": {
        "colab": {
          "base_uri": "https://localhost:8080/"
        },
        "id": "xOzCfL4AUxM2",
        "outputId": "8aadd0b3-6250-4246-ae63-64e6b187b641"
      },
      "outputs": [
        {
          "name": "stdout",
          "output_type": "stream",
          "text": [
            "<class 'pandas.core.frame.DataFrame'>\n",
            "RangeIndex: 102396 entries, 0 to 102395\n",
            "Data columns (total 9 columns):\n",
            " #   Column    Non-Null Count   Dtype  \n",
            "---  ------    --------------   -----  \n",
            " 0   X         102396 non-null  float64\n",
            " 1   Y         102396 non-null  float64\n",
            " 2   Z         102396 non-null  float64\n",
            " 3   EDA       102396 non-null  float64\n",
            " 4   HR        102396 non-null  float64\n",
            " 5   TEMP      102396 non-null  float64\n",
            " 6   id        102396 non-null  object \n",
            " 7   datetime  102396 non-null  object \n",
            " 8   label     102396 non-null  float64\n",
            "dtypes: float64(7), object(2)\n",
            "memory usage: 7.0+ MB\n"
          ]
        }
      ],
      "source": [
        "df.info()"
      ]
    },
    {
      "cell_type": "code",
      "execution_count": 33,
      "metadata": {
        "colab": {
          "base_uri": "https://localhost:8080/",
          "height": 472
        },
        "id": "523bOXKNPNom",
        "outputId": "52e79d6b-6372-4ad4-a194-8490d46af46c"
      },
      "outputs": [
        {
          "data": {
            "image/png": "[encoded data removed]",
            "text/plain": [
              "<Figure size 640x480 with 1 Axes>"
            ]
          },
          "metadata": {},
          "output_type": "display_data"
        }
      ],
      "source": [
        "# plot the relationship between eda and temp\n",
        "plt.scatter(df['EDA'], df['TEMP'])\n",
        "plt.xlabel('EDA')\n",
        "plt.ylabel('Temperature')\n",
        "plt.title('Relationship between EDA and Temperature')\n",
        "plt.show()\n"
      ]
    },
    {
      "cell_type": "code",
      "execution_count": 34,
      "metadata": {
        "colab": {
          "base_uri": "https://localhost:8080/",
          "height": 472
        },
        "id": "tkQKx4AWPdoL",
        "outputId": "76d291e5-e26b-4060-8169-7c6ea664937f"
      },
      "outputs": [
        {
          "data": {
            "image/png": "[encoded data removed]",
            "text/plain": [
              "<Figure size 640x480 with 1 Axes>"
            ]
          },
          "metadata": {},
          "output_type": "display_data"
        }
      ],
      "source": [
        "# plot hr and temp as a line graph\n",
        "plt.plot(df['HR'], df['TEMP'], 'o-')\n",
        "plt.xlabel('Heart Rate (beats per minute)')\n",
        "plt.ylabel('Temperature (Fahrenheit)')\n",
        "plt.title('Relationship between Heart Rate and Temperature')\n",
        "\n",
        "# show the plot\n",
        "plt.show()"
      ]
    },
    {
      "cell_type": "code",
      "execution_count": 35,
      "metadata": {
        "colab": {
          "base_uri": "https://localhost:8080/"
        },
        "id": "rJJnG6NAUxM2",
        "outputId": "94dd26ae-6e9e-40c5-b6fb-8a55eede0147"
      },
      "outputs": [
        {
          "name": "stdout",
          "output_type": "stream",
          "text": [
            "<class 'pandas.core.frame.DataFrame'>\n",
            "RangeIndex: 102396 entries, 0 to 102395\n",
            "Data columns (total 9 columns):\n",
            " #   Column    Non-Null Count   Dtype         \n",
            "---  ------    --------------   -----         \n",
            " 0   X         102396 non-null  float64       \n",
            " 1   Y         102396 non-null  float64       \n",
            " 2   Z         102396 non-null  float64       \n",
            " 3   EDA       102396 non-null  float64       \n",
            " 4   HR        102396 non-null  float64       \n",
            " 5   TEMP      102396 non-null  float64       \n",
            " 6   id        102396 non-null  category      \n",
            " 7   datetime  102396 non-null  datetime64[ns]\n",
            " 8   label     102396 non-null  category      \n",
            "dtypes: category(2), datetime64[ns](1), float64(6)\n",
            "memory usage: 5.7 MB\n"
          ]
        }
      ],
      "source": [
        "# Convert the 'datetime' column to a Pandas datetime object\n",
        "df['datetime'] = pd.to_datetime(df['datetime'])\n",
        "\n",
        "# Convert the 'id' column to categorical\n",
        "df['id'] = df['id'].astype('category')\n",
        "\n",
        "# Convert the 'label' column to categorical\n",
        "df['label'] = df['label'].astype('category')\n",
        "\n",
        "# Normalize the numerical columns using StandardScaler\n",
        "scaler = StandardScaler()\n",
        "df[['X', 'Y', 'Z', 'EDA', 'HR', 'TEMP']] = scaler.fit_transform(df[['X', 'Y', 'Z', 'EDA', 'HR', 'TEMP']])\n",
        "\n",
        "# Print the information about the DataFrame\n",
        "df.info()\n"
      ]
    },
    {
      "cell_type": "code",
      "execution_count": 36,
      "metadata": {
        "colab": {
          "base_uri": "https://localhost:8080/"
        },
        "id": "vcuD37rbUxM3",
        "outputId": "78e56891-74b1-4dbc-facc-f9fce3d8394e"
      },
      "outputs": [
        {
          "data": {
            "text/plain": [
              "2.0    64049\n",
              "0.0    30419\n",
              "1.0     7928\n",
              "Name: label, dtype: int64"
            ]
          },
          "execution_count": 36,
          "metadata": {},
          "output_type": "execute_result"
        }
      ],
      "source": [
        "# Count the number of samples in each class\n",
        "df['label'].value_counts()\n"
      ]
    },
    {
      "cell_type": "markdown",
      "metadata": {
        "id": "ed399PHefqbv"
      },
      "source": [
        "##Removing Outliers"
      ]
    },
    {
      "cell_type": "markdown",
      "metadata": {
        "id": "eeqTE8mfgift"
      },
      "source": [
        "###Scatter plotter before removing outliers"
      ]
    },
    {
      "cell_type": "code",
      "execution_count": 37,
      "metadata": {
        "colab": {
          "base_uri": "https://localhost:8080/",
          "height": 658
        },
        "id": "qaaEgqiYUxM3",
        "outputId": "aef03869-eaf7-4752-c4f2-68b03604951a"
      },
      "outputs": [
        {
          "data": {
            "image/png": "[encoded data removed]",
            "text/plain": [
              "<Figure size 1200x800 with 6 Axes>"
            ]
          },
          "metadata": {},
          "output_type": "display_data"
        }
      ],
      "source": [
        "# Create a scatter plot for each feature\n",
        "fig, axes = plt.subplots(nrows=2, ncols=3, figsize=(12,8))\n",
        "axes = axes.flatten()\n",
        "for i, feature in enumerate(df.columns):\n",
        "    if feature not in ['id', 'datetime', 'label']:\n",
        "        ax = axes[i-1]\n",
        "        ax.scatter(df[feature], df['label'])\n",
        "        ax.set_xlabel(feature)\n",
        "        ax.set_ylabel('label')\n",
        "\n",
        "plt.tight_layout()\n",
        "plt.show()"
      ]
    },
    {
      "cell_type": "markdown",
      "metadata": {
        "id": "4XGZGq1Hg2SI"
      },
      "source": [
        "###Removing outliers"
      ]
    },
    {
      "cell_type": "code",
      "execution_count": 38,
      "metadata": {
        "colab": {
          "base_uri": "https://localhost:8080/"
        },
        "id": "Riw1RM-4UxM4",
        "outputId": "885c3819-db13-40e4-c9d5-f20757d6b0d4"
      },
      "outputs": [
        {
          "name": "stdout",
          "output_type": "stream",
          "text": [
            "               X         Y         Z       EDA        HR      TEMP  id  \\\n",
            "0      -1.393265  0.404487 -0.673563 -0.479381 -0.439740 -0.546975  6B   \n",
            "1      -1.955135 -1.156538 -1.363378 -0.485248 -0.572793 -0.569990  6B   \n",
            "2      -0.304643 -0.404934  0.851289 -0.496885 -1.635780 -0.792469  6B   \n",
            "3      -0.726045 -0.231487 -2.125804 -0.495083 -0.412410 -0.531632  6B   \n",
            "4      -0.831396 -0.231487  0.379311 -0.570764  0.123399 -0.746439  6B   \n",
            "...          ...       ...       ...       ...       ...       ...  ..   \n",
            "102391  1.697017  2.023327  0.306699 -0.484204 -0.644714  0.576926  94   \n",
            "102392  1.697017  2.023327  0.306699 -0.484204 -0.682113 -0.079003  94   \n",
            "102393  1.697017  2.023327  0.306699 -0.484204 -0.682113  0.158819  94   \n",
            "102394  1.697017  2.023327  0.306699 -0.484204 -0.682113  0.158819  94   \n",
            "102395  1.697017  2.023327  0.306699 -0.484204 -0.682113  0.680493  94   \n",
            "\n",
            "                            datetime label  \n",
            "0      2020-06-23 16:10:21.937499904   0.0  \n",
            "1      2020-06-23 16:08:05.375000064   0.0  \n",
            "2      2020-06-23 15:51:32.312499968   0.0  \n",
            "3      2020-06-23 16:10:33.906249984   0.0  \n",
            "4      2020-06-23 15:53:47.593750016   0.0  \n",
            "...                              ...   ...  \n",
            "102391 2020-07-07 12:52:14.000000000   2.0  \n",
            "102392 2020-07-07 12:40:37.750000128   2.0  \n",
            "102393 2020-07-07 12:36:33.750000128   2.0  \n",
            "102394 2020-07-07 12:48:08.500000000   2.0  \n",
            "102395 2020-07-07 12:53:35.500000000   2.0  \n",
            "\n",
            "[95625 rows x 9 columns]\n"
          ]
        }
      ],
      "source": [
        "# Select only the numerical columns\n",
        "num_cols = df.select_dtypes(include=[np.number]).columns\n",
        "\n",
        "# Calculate the Z-score for each data point in each numerical column\n",
        "z_scores = stats.zscore(df[num_cols])\n",
        "\n",
        "# Define a threshold for outliers (Z-score of 3)\n",
        "threshold = 3\n",
        "\n",
        "# Identify the outlier indices\n",
        "outlier_indices = np.where(np.abs(z_scores) > threshold)\n",
        "\n",
        "# Remove the outliers from the DataFrame\n",
        "df = df.drop(outlier_indices[0], axis=0)\n",
        "\n",
        "# Print the modified DataFrame\n",
        "print(df)\n"
      ]
    },
    {
      "cell_type": "markdown",
      "metadata": {
        "id": "A6-3cSYogtdW"
      },
      "source": [
        "###Scatter plotter after removing outliers"
      ]
    },
    {
      "cell_type": "code",
      "execution_count": 39,
      "metadata": {
        "colab": {
          "base_uri": "https://localhost:8080/",
          "height": 657
        },
        "id": "jcbcjRlAUxM4",
        "outputId": "ae5d8619-d73a-4f67-ab8b-935c6e822a87"
      },
      "outputs": [
        {
          "data": {
            "image/png": "[encoded data removed]",
            "text/plain": [
              "<Figure size 1200x800 with 6 Axes>"
            ]
          },
          "metadata": {},
          "output_type": "display_data"
        }
      ],
      "source": [
        "# Create a scatter plot for each feature\n",
        "fig, axes = plt.subplots(nrows=2, ncols=3, figsize=(12,8))\n",
        "axes = axes.flatten()\n",
        "for i, feature in enumerate(df.columns):\n",
        "    if feature not in ['id', 'datetime', 'label']:\n",
        "        ax = axes[i-1]\n",
        "        ax.scatter(df[feature], df['label'])\n",
        "        ax.set_xlabel(feature)\n",
        "        ax.set_ylabel('label')\n",
        "\n",
        "plt.tight_layout()\n",
        "plt.show()\n",
        "plt.show()"
      ]
    },
    {
      "cell_type": "markdown",
      "metadata": {
        "id": "kuxQWq8Dhmsw"
      },
      "source": [
        "##Feature scalling"
      ]
    },
    {
      "cell_type": "code",
      "execution_count": 40,
      "metadata": {
        "id": "LOVIGnClUxM5"
      },
      "outputs": [],
      "source": [
        "# Create a scaler object\n",
        "scaler = MinMaxScaler()\n",
        "\n",
        "# Fit and transform the data using the scaler object\n",
        "scaled_features = scaler.fit_transform(df[['X', 'Y', 'Z', 'EDA', 'HR', 'TEMP']])\n",
        "\n",
        "# Create a new DataFrame with the scaled features and the remaining columns\n",
        "scaled_df = pd.DataFrame(scaled_features, columns=['X_scaled', 'Y_scaled', 'Z_scaled', 'EDA_scaled', 'HR_scaled', 'TEMP_scaled'])\n",
        "scaled_df[['id', 'datetime', 'label']] = df[['id', 'datetime', 'label']]"
      ]
    },
    {
      "cell_type": "code",
      "execution_count": 41,
      "metadata": {
        "colab": {
          "base_uri": "https://localhost:8080/",
          "height": 300
        },
        "id": "WPXZZqJpUxM5",
        "outputId": "c20693b6-29ec-4a3d-90ec-98c5b708e5bd"
      },
      "outputs": [
        {
          "data": {
            "text/html": [
              "\n",
              "  <div id=\"df-eed72e9a-3ab1-494d-9e0f-a4ac57c786b0\">\n",
              "    <div class=\"colab-df-container\">\n",
              "      <div>\n",
              "<style scoped>\n",
              "    .dataframe tbody tr th:only-of-type {\n",
              "        vertical-align: middle;\n",
              "    }\n",
              "\n",
              "    .dataframe tbody tr th {\n",
              "        vertical-align: top;\n",
              "    }\n",
              "\n",
              "    .dataframe thead th {\n",
              "        text-align: right;\n",
              "    }\n",
              "</style>\n",
              "<table border=\"1\" class=\"dataframe\">\n",
              "  <thead>\n",
              "    <tr style=\"text-align: right;\">\n",
              "      <th></th>\n",
              "      <th>X</th>\n",
              "      <th>Y</th>\n",
              "      <th>Z</th>\n",
              "      <th>EDA</th>\n",
              "      <th>HR</th>\n",
              "      <th>TEMP</th>\n",
              "    </tr>\n",
              "  </thead>\n",
              "  <tbody>\n",
              "    <tr>\n",
              "      <th>count</th>\n",
              "      <td>95625.000000</td>\n",
              "      <td>95625.000000</td>\n",
              "      <td>95625.000000</td>\n",
              "      <td>95625.000000</td>\n",
              "      <td>95625.000000</td>\n",
              "      <td>95625.000000</td>\n",
              "    </tr>\n",
              "    <tr>\n",
              "      <th>mean</th>\n",
              "      <td>0.006968</td>\n",
              "      <td>-0.003040</td>\n",
              "      <td>0.023943</td>\n",
              "      <td>-0.126613</td>\n",
              "      <td>-0.100902</td>\n",
              "      <td>0.096440</td>\n",
              "    </tr>\n",
              "    <tr>\n",
              "      <th>std</th>\n",
              "      <td>0.965719</td>\n",
              "      <td>0.998207</td>\n",
              "      <td>0.990181</td>\n",
              "      <td>0.597837</td>\n",
              "      <td>0.866145</td>\n",
              "      <td>0.821267</td>\n",
              "    </tr>\n",
              "    <tr>\n",
              "      <th>min</th>\n",
              "      <td>-2.973523</td>\n",
              "      <td>-2.977734</td>\n",
              "      <td>-2.997148</td>\n",
              "      <td>-0.570764</td>\n",
              "      <td>-2.600955</td>\n",
              "      <td>-2.848479</td>\n",
              "    </tr>\n",
              "    <tr>\n",
              "      <th>25%</th>\n",
              "      <td>-0.761162</td>\n",
              "      <td>-0.549473</td>\n",
              "      <td>-0.673563</td>\n",
              "      <td>-0.496525</td>\n",
              "      <td>-0.720230</td>\n",
              "      <td>-0.546975</td>\n",
              "    </tr>\n",
              "    <tr>\n",
              "      <th>50%</th>\n",
              "      <td>-0.164176</td>\n",
              "      <td>0.057592</td>\n",
              "      <td>0.052557</td>\n",
              "      <td>-0.377954</td>\n",
              "      <td>-0.229012</td>\n",
              "      <td>0.143476</td>\n",
              "    </tr>\n",
              "    <tr>\n",
              "      <th>75%</th>\n",
              "      <td>0.608395</td>\n",
              "      <td>0.606842</td>\n",
              "      <td>0.851289</td>\n",
              "      <td>-0.019403</td>\n",
              "      <td>0.388786</td>\n",
              "      <td>0.818583</td>\n",
              "    </tr>\n",
              "    <tr>\n",
              "      <th>max</th>\n",
              "      <td>2.996340</td>\n",
              "      <td>2.977287</td>\n",
              "      <td>2.993344</td>\n",
              "      <td>2.999738</td>\n",
              "      <td>2.999505</td>\n",
              "      <td>1.693155</td>\n",
              "    </tr>\n",
              "  </tbody>\n",
              "</table>\n",
              "</div>\n",
              "      <button class=\"colab-df-convert\" onclick=\"convertToInteractive('df-eed72e9a-3ab1-494d-9e0f-a4ac57c786b0')\"\n",
              "              title=\"Convert this dataframe to an interactive table.\"\n",
              "              style=\"display:none;\">\n",
              "        \n",
              "  <svg xmlns=\"http://www.w3.org/2000/svg\" height=\"24px\"viewBox=\"0 0 24 24\"\n",
              "       width=\"24px\">\n",
              "    <path d=\"M0 0h24v24H0V0z\" fill=\"none\"/>\n",
              "    <path d=\"M18.56 5.44l.94 2.06.94-2.06 2.06-.94-2.06-.94-.94-2.06-.94 2.06-2.06.94zm-11 1L8.5 8.5l.94-2.06 2.06-.94-2.06-.94L8.5 2.5l-.94 2.06-2.06.94zm10 10l.94 2.06.94-2.06 2.06-.94-2.06-.94-.94-2.06-.94 2.06-2.06.94z\"/><path d=\"M17.41 7.96l-1.37-1.37c-.4-.4-.92-.59-1.43-.59-.52 0-1.04.2-1.43.59L10.3 9.45l-7.72 7.72c-.78.78-.78 2.05 0 2.83L4 21.41c.39.39.9.59 1.41.59.51 0 1.02-.2 1.41-.59l7.78-7.78 2.81-2.81c.8-.78.8-2.07 0-2.86zM5.41 20L4 18.59l7.72-7.72 1.47 1.35L5.41 20z\"/>\n",
              "  </svg>\n",
              "      </button>\n",
              "      \n",
              "  <style>\n",
              "    .colab-df-container {\n",
              "      display:flex;\n",
              "      flex-wrap:wrap;\n",
              "      gap: 12px;\n",
              "    }\n",
              "\n",
              "    .colab-df-convert {\n",
              "      background-color: #E8F0FE;\n",
              "      border: none;\n",
              "      border-radius: 50%;\n",
              "      cursor: pointer;\n",
              "      display: none;\n",
              "      fill: #1967D2;\n",
              "      height: 32px;\n",
              "      padding: 0 0 0 0;\n",
              "      width: 32px;\n",
              "    }\n",
              "\n",
              "    .colab-df-convert:hover {\n",
              "      background-color: #E2EBFA;\n",
              "      box-shadow: 0px 1px 2px rgba(60, 64, 67, 0.3), 0px 1px 3px 1px rgba(60, 64, 67, 0.15);\n",
              "      fill: #174EA6;\n",
              "    }\n",
              "\n",
              "    [theme=dark] .colab-df-convert {\n",
              "      background-color: #3B4455;\n",
              "      fill: #D2E3FC;\n",
              "    }\n",
              "\n",
              "    [theme=dark] .colab-df-convert:hover {\n",
              "      background-color: #434B5C;\n",
              "      box-shadow: 0px 1px 3px 1px rgba(0, 0, 0, 0.15);\n",
              "      filter: drop-shadow(0px 1px 2px rgba(0, 0, 0, 0.3));\n",
              "      fill: #FFFFFF;\n",
              "    }\n",
              "  </style>\n",
              "\n",
              "      <script>\n",
              "        const buttonEl =\n",
              "          document.querySelector('#df-eed72e9a-3ab1-494d-9e0f-a4ac57c786b0 button.colab-df-convert');\n",
              "        buttonEl.style.display =\n",
              "          google.colab.kernel.accessAllowed ? 'block' : 'none';\n",
              "\n",
              "        async function convertToInteractive(key) {\n",
              "          const element = document.querySelector('#df-eed72e9a-3ab1-494d-9e0f-a4ac57c786b0');\n",
              "          const dataTable =\n",
              "            await google.colab.kernel.invokeFunction('convertToInteractive',\n",
              "                                                     [key], {});\n",
              "          if (!dataTable) return;\n",
              "\n",
              "          const docLinkHtml = 'Like what you see? Visit the ' +\n",
              "            '<a target=\"_blank\" href=https://colab.research.google.com/notebooks/data_table.ipynb>data table notebook</a>'\n",
              "            + ' to learn more about interactive tables.';\n",
              "          element.innerHTML = '';\n",
              "          dataTable['output_type'] = 'display_data';\n",
              "          await google.colab.output.renderOutput(dataTable, element);\n",
              "          const docLink = document.createElement('div');\n",
              "          docLink.innerHTML = docLinkHtml;\n",
              "          element.appendChild(docLink);\n",
              "        }\n",
              "      </script>\n",
              "    </div>\n",
              "  </div>\n",
              "  "
            ],
            "text/plain": [
              "                  X             Y             Z           EDA            HR  \\\n",
              "count  95625.000000  95625.000000  95625.000000  95625.000000  95625.000000   \n",
              "mean       0.006968     -0.003040      0.023943     -0.126613     -0.100902   \n",
              "std        0.965719      0.998207      0.990181      0.597837      0.866145   \n",
              "min       -2.973523     -2.977734     -2.997148     -0.570764     -2.600955   \n",
              "25%       -0.761162     -0.549473     -0.673563     -0.496525     -0.720230   \n",
              "50%       -0.164176      0.057592      0.052557     -0.377954     -0.229012   \n",
              "75%        0.608395      0.606842      0.851289     -0.019403      0.388786   \n",
              "max        2.996340      2.977287      2.993344      2.999738      2.999505   \n",
              "\n",
              "               TEMP  \n",
              "count  95625.000000  \n",
              "mean       0.096440  \n",
              "std        0.821267  \n",
              "min       -2.848479  \n",
              "25%       -0.546975  \n",
              "50%        0.143476  \n",
              "75%        0.818583  \n",
              "max        1.693155  "
            ]
          },
          "execution_count": 41,
          "metadata": {},
          "output_type": "execute_result"
        }
      ],
      "source": [
        "df.describe()"
      ]
    },
    {
      "cell_type": "markdown",
      "metadata": {
        "id": "_JsL6gzQf26k"
      },
      "source": [
        "##Correlation matrix and heatmap"
      ]
    },
    {
      "cell_type": "code",
      "execution_count": 42,
      "metadata": {
        "colab": {
          "base_uri": "https://localhost:8080/",
          "height": 490
        },
        "id": "60oPbVP6UxM6",
        "outputId": "a2bded60-f36d-4405-9105-aed05ca8dbc2"
      },
      "outputs": [
        {
          "name": "stderr",
          "output_type": "stream",
          "text": [
            "<ipython-input-42-73a1502b577c>:2: FutureWarning: The default value of numeric_only in DataFrame.corr is deprecated. In a future version, it will default to False. Select only valid columns or specify the value of numeric_only to silence this warning.\n",
            "  corr_matrix = df.corr()\n"
          ]
        },
        {
          "data": {
            "image/png": "[encoded data removed]",
            "text/plain": [
              "<Figure size 640x480 with 2 Axes>"
            ]
          },
          "metadata": {},
          "output_type": "display_data"
        }
      ],
      "source": [
        "# Calculate the correlation matrix\n",
        "corr_matrix = df.corr()\n",
        "\n",
        "# Visualize the correlation matrix using a heatmap\n",
        "sns.heatmap(corr_matrix, annot=True, cmap='coolwarm')\n",
        "\n",
        "# Remove the irrelevant features by dropping the columns with low correlation\n",
        "df = df.drop(['X', 'Y', 'Z'], axis=1)\n",
        "\n",
        "# Select the highly correlated features as input for the model\n",
        "X = df[['EDA', 'HR', 'TEMP']]\n",
        "y = df['label']"
      ]
    },
    {
      "cell_type": "markdown",
      "metadata": {
        "id": "JFqrhUpDhD9Y"
      },
      "source": [
        "## Splitting the dataset into training set and testing set"
      ]
    },
    {
      "cell_type": "code",
      "execution_count": 43,
      "metadata": {
        "id": "eeUKaVotUxM6"
      },
      "outputs": [],
      "source": [
        "# Split the data into X (features) and y (labels)\n",
        "X = df.drop(['id', 'datetime', 'label'], axis=1)\n",
        "y = df['label']\n",
        "\n",
        "# Split the data into train and test sets\n",
        "X_train, X_test, y_train, y_test = train_test_split(X, y, test_size=0.2, random_state=42)\n",
        "\n",
        "# Balance the label datasets\n",
        "rus = RandomUnderSampler(random_state=42)\n",
        "X_train, y_train = rus.fit_resample(X_train, y_train)"
      ]
    },
    {
      "cell_type": "code",
      "execution_count": 44,
      "metadata": {
        "colab": {
          "base_uri": "https://localhost:8080/"
        },
        "id": "2DgwsDVxUxM6",
        "outputId": "2bc712ef-559e-4fce-9d89-bb73f386e93a"
      },
      "outputs": [
        {
          "name": "stdout",
          "output_type": "stream",
          "text": [
            "0.0    6142\n",
            "1.0    6142\n",
            "2.0    6142\n",
            "Name: label, dtype: int64\n"
          ]
        }
      ],
      "source": [
        "# Count the number of samples in each class\n",
        "print(pd.Series(y_train).value_counts())"
      ]
    },
    {
      "cell_type": "markdown",
      "metadata": {
        "id": "D9Zj3uTxXz9i"
      },
      "source": [
        "##Building the Models"
      ]
    },
    {
      "cell_type": "markdown",
      "metadata": {
        "id": "ZOokWlpWX6x6"
      },
      "source": [
        "### Logistic Regression Model"
      ]
    },
    {
      "cell_type": "code",
      "execution_count": 45,
      "metadata": {
        "colab": {
          "base_uri": "https://localhost:8080/",
          "height": 81
        },
        "id": "UT86JXc8YbC0",
        "outputId": "f8b767c0-6fbf-444f-b8a7-644ef4c0086a"
      },
      "outputs": [
        {
          "data": {
            "text/html": [
              "\n",
              "  <div id=\"df-ee017c78-f8f9-4abc-9332-124dc2eb70dd\">\n",
              "    <div class=\"colab-df-container\">\n",
              "      <div>\n",
              "<style scoped>\n",
              "    .dataframe tbody tr th:only-of-type {\n",
              "        vertical-align: middle;\n",
              "    }\n",
              "\n",
              "    .dataframe tbody tr th {\n",
              "        vertical-align: top;\n",
              "    }\n",
              "\n",
              "    .dataframe thead th {\n",
              "        text-align: right;\n",
              "    }\n",
              "</style>\n",
              "<table border=\"1\" class=\"dataframe\">\n",
              "  <thead>\n",
              "    <tr style=\"text-align: right;\">\n",
              "      <th></th>\n",
              "      <th>Model</th>\n",
              "      <th>Accuracy</th>\n",
              "      <th>F1 Score</th>\n",
              "      <th>Precision</th>\n",
              "      <th>Recall</th>\n",
              "    </tr>\n",
              "  </thead>\n",
              "  <tbody>\n",
              "    <tr>\n",
              "      <th>0</th>\n",
              "      <td>Logistic Regression</td>\n",
              "      <td>0.319477</td>\n",
              "      <td>0.300481</td>\n",
              "      <td>0.540128</td>\n",
              "      <td>0.319477</td>\n",
              "    </tr>\n",
              "  </tbody>\n",
              "</table>\n",
              "</div>\n",
              "      <button class=\"colab-df-convert\" onclick=\"convertToInteractive('df-ee017c78-f8f9-4abc-9332-124dc2eb70dd')\"\n",
              "              title=\"Convert this dataframe to an interactive table.\"\n",
              "              style=\"display:none;\">\n",
              "        \n",
              "  <svg xmlns=\"http://www.w3.org/2000/svg\" height=\"24px\"viewBox=\"0 0 24 24\"\n",
              "       width=\"24px\">\n",
              "    <path d=\"M0 0h24v24H0V0z\" fill=\"none\"/>\n",
              "    <path d=\"M18.56 5.44l.94 2.06.94-2.06 2.06-.94-2.06-.94-.94-2.06-.94 2.06-2.06.94zm-11 1L8.5 8.5l.94-2.06 2.06-.94-2.06-.94L8.5 2.5l-.94 2.06-2.06.94zm10 10l.94 2.06.94-2.06 2.06-.94-2.06-.94-.94-2.06-.94 2.06-2.06.94z\"/><path d=\"M17.41 7.96l-1.37-1.37c-.4-.4-.92-.59-1.43-.59-.52 0-1.04.2-1.43.59L10.3 9.45l-7.72 7.72c-.78.78-.78 2.05 0 2.83L4 21.41c.39.39.9.59 1.41.59.51 0 1.02-.2 1.41-.59l7.78-7.78 2.81-2.81c.8-.78.8-2.07 0-2.86zM5.41 20L4 18.59l7.72-7.72 1.47 1.35L5.41 20z\"/>\n",
              "  </svg>\n",
              "      </button>\n",
              "      \n",
              "  <style>\n",
              "    .colab-df-container {\n",
              "      display:flex;\n",
              "      flex-wrap:wrap;\n",
              "      gap: 12px;\n",
              "    }\n",
              "\n",
              "    .colab-df-convert {\n",
              "      background-color: #E8F0FE;\n",
              "      border: none;\n",
              "      border-radius: 50%;\n",
              "      cursor: pointer;\n",
              "      display: none;\n",
              "      fill: #1967D2;\n",
              "      height: 32px;\n",
              "      padding: 0 0 0 0;\n",
              "      width: 32px;\n",
              "    }\n",
              "\n",
              "    .colab-df-convert:hover {\n",
              "      background-color: #E2EBFA;\n",
              "      box-shadow: 0px 1px 2px rgba(60, 64, 67, 0.3), 0px 1px 3px 1px rgba(60, 64, 67, 0.15);\n",
              "      fill: #174EA6;\n",
              "    }\n",
              "\n",
              "    [theme=dark] .colab-df-convert {\n",
              "      background-color: #3B4455;\n",
              "      fill: #D2E3FC;\n",
              "    }\n",
              "\n",
              "    [theme=dark] .colab-df-convert:hover {\n",
              "      background-color: #434B5C;\n",
              "      box-shadow: 0px 1px 3px 1px rgba(0, 0, 0, 0.15);\n",
              "      filter: drop-shadow(0px 1px 2px rgba(0, 0, 0, 0.3));\n",
              "      fill: #FFFFFF;\n",
              "    }\n",
              "  </style>\n",
              "\n",
              "      <script>\n",
              "        const buttonEl =\n",
              "          document.querySelector('#df-ee017c78-f8f9-4abc-9332-124dc2eb70dd button.colab-df-convert');\n",
              "        buttonEl.style.display =\n",
              "          google.colab.kernel.accessAllowed ? 'block' : 'none';\n",
              "\n",
              "        async function convertToInteractive(key) {\n",
              "          const element = document.querySelector('#df-ee017c78-f8f9-4abc-9332-124dc2eb70dd');\n",
              "          const dataTable =\n",
              "            await google.colab.kernel.invokeFunction('convertToInteractive',\n",
              "                                                     [key], {});\n",
              "          if (!dataTable) return;\n",
              "\n",
              "          const docLinkHtml = 'Like what you see? Visit the ' +\n",
              "            '<a target=\"_blank\" href=https://colab.research.google.com/notebooks/data_table.ipynb>data table notebook</a>'\n",
              "            + ' to learn more about interactive tables.';\n",
              "          element.innerHTML = '';\n",
              "          dataTable['output_type'] = 'display_data';\n",
              "          await google.colab.output.renderOutput(dataTable, element);\n",
              "          const docLink = document.createElement('div');\n",
              "          docLink.innerHTML = docLinkHtml;\n",
              "          element.appendChild(docLink);\n",
              "        }\n",
              "      </script>\n",
              "    </div>\n",
              "  </div>\n",
              "  "
            ],
            "text/plain": [
              "                 Model  Accuracy  F1 Score  Precision    Recall\n",
              "0  Logistic Regression  0.319477  0.300481   0.540128  0.319477"
            ]
          },
          "execution_count": 45,
          "metadata": {},
          "output_type": "execute_result"
        }
      ],
      "source": [
        "classifier_lr = LogisticRegression(random_state=0)\n",
        "\n",
        "classifier_lr.fit(X_train, y_train)\n",
        "\n",
        "y_pred = classifier_lr.predict(X_test)\n",
        "\n",
        "acc = accuracy_score(y_test, y_pred)\n",
        "f1 = f1_score(y_test, y_pred, average='weighted') # Use weighted average for multiclass problem\n",
        "prec = precision_score(y_test, y_pred, average='weighted') # Use weighted average for multiclass problem\n",
        "rec = recall_score(y_test, y_pred, average='weighted') # Use weighted average for multiclass problem\n",
        "\n",
        "results = pd.DataFrame([['Logistic Regression', acc, f1, prec, rec]],\n",
        "columns = ['Model','Accuracy','F1 Score','Precision','Recall'])\n",
        "\n",
        "results"
      ]
    },
    {
      "cell_type": "code",
      "execution_count": 46,
      "metadata": {
        "colab": {
          "base_uri": "https://localhost:8080/"
        },
        "id": "PVZNnUvkZVa4",
        "outputId": "572f65a2-b7c2-4a54-e5eb-aa4b536a292c"
      },
      "outputs": [
        {
          "name": "stdout",
          "output_type": "stream",
          "text": [
            "[[3610 1691  676]\n",
            " [ 426  958   97]\n",
            " [5049 5076 1542]]\n"
          ]
        }
      ],
      "source": [
        "cm_lr = confusion_matrix(y_test, y_pred)\n",
        "print(cm_lr)"
      ]
    },
    {
      "cell_type": "markdown",
      "metadata": {
        "id": "AqfPmzOoZmU5"
      },
      "source": [
        "####Cross Validation"
      ]
    },
    {
      "cell_type": "code",
      "execution_count": 47,
      "metadata": {
        "colab": {
          "base_uri": "https://localhost:8080/"
        },
        "id": "Z8r7HEUNZrFt",
        "outputId": "03461538-6ded-4fc4-fd93-5dd6daf6fc18"
      },
      "outputs": [
        {
          "name": "stdout",
          "output_type": "stream",
          "text": [
            "Accuracy is 45.45 %\n",
            "Standard Deviation is 1.29 %\n"
          ]
        }
      ],
      "source": [
        "accuracy = cross_val_score(estimator=classifier_lr,X=X_train,y=y_train, cv=10)\n",
        "\n",
        "print(\"Accuracy is {:.2f} %\".format(accuracy.mean()*100))\n",
        "print(\"Standard Deviation is {:.2f} %\".format(accuracy.std()*100))"
      ]
    },
    {
      "cell_type": "markdown",
      "metadata": {
        "id": "UsTCr8a1Z9ap"
      },
      "source": [
        "###Random Forest Model"
      ]
    },
    {
      "cell_type": "code",
      "execution_count": 48,
      "metadata": {
        "id": "EH5rOwH6UxM7"
      },
      "outputs": [],
      "source": [
        "# Initialize the Random Forest classifier\n",
        "rf = RandomForestClassifier(n_estimators=100, random_state=42)\n",
        "\n",
        "# Fit the model on the training data\n",
        "rf.fit(X_train, y_train)\n",
        "\n",
        "# Predict on the test data\n",
        "y_pred = rf.predict(X_test)"
      ]
    },
    {
      "cell_type": "code",
      "execution_count": 49,
      "metadata": {
        "colab": {
          "base_uri": "https://localhost:8080/",
          "height": 167
        },
        "id": "g-A_mq8BW5cI",
        "outputId": "a66cd8e6-faf3-4722-a662-d7a4e99db565"
      },
      "outputs": [
        {
          "name": "stderr",
          "output_type": "stream",
          "text": [
            "<ipython-input-49-9379d263fd0c>:10: FutureWarning: The frame.append method is deprecated and will be removed from pandas in a future version. Use pandas.concat instead.\n",
            "  results = results.append(model_results, ignore_index=True)\n"
          ]
        },
        {
          "data": {
            "text/html": [
              "\n",
              "  <div id=\"df-0f3bf181-7884-4617-a6ec-56ec6877bcab\">\n",
              "    <div class=\"colab-df-container\">\n",
              "      <div>\n",
              "<style scoped>\n",
              "    .dataframe tbody tr th:only-of-type {\n",
              "        vertical-align: middle;\n",
              "    }\n",
              "\n",
              "    .dataframe tbody tr th {\n",
              "        vertical-align: top;\n",
              "    }\n",
              "\n",
              "    .dataframe thead th {\n",
              "        text-align: right;\n",
              "    }\n",
              "</style>\n",
              "<table border=\"1\" class=\"dataframe\">\n",
              "  <thead>\n",
              "    <tr style=\"text-align: right;\">\n",
              "      <th></th>\n",
              "      <th>Model</th>\n",
              "      <th>Accuracy</th>\n",
              "      <th>F1 Score</th>\n",
              "      <th>Precision</th>\n",
              "      <th>Recall</th>\n",
              "    </tr>\n",
              "  </thead>\n",
              "  <tbody>\n",
              "    <tr>\n",
              "      <th>0</th>\n",
              "      <td>Logistic Regression</td>\n",
              "      <td>0.319477</td>\n",
              "      <td>0.300481</td>\n",
              "      <td>0.540128</td>\n",
              "      <td>0.319477</td>\n",
              "    </tr>\n",
              "    <tr>\n",
              "      <th>1</th>\n",
              "      <td>Random Forest Classification</td>\n",
              "      <td>0.882614</td>\n",
              "      <td>0.887626</td>\n",
              "      <td>0.901952</td>\n",
              "      <td>0.882614</td>\n",
              "    </tr>\n",
              "  </tbody>\n",
              "</table>\n",
              "</div>\n",
              "      <button class=\"colab-df-convert\" onclick=\"convertToInteractive('df-0f3bf181-7884-4617-a6ec-56ec6877bcab')\"\n",
              "              title=\"Convert this dataframe to an interactive table.\"\n",
              "              style=\"display:none;\">\n",
              "        \n",
              "  <svg xmlns=\"http://www.w3.org/2000/svg\" height=\"24px\"viewBox=\"0 0 24 24\"\n",
              "       width=\"24px\">\n",
              "    <path d=\"M0 0h24v24H0V0z\" fill=\"none\"/>\n",
              "    <path d=\"M18.56 5.44l.94 2.06.94-2.06 2.06-.94-2.06-.94-.94-2.06-.94 2.06-2.06.94zm-11 1L8.5 8.5l.94-2.06 2.06-.94-2.06-.94L8.5 2.5l-.94 2.06-2.06.94zm10 10l.94 2.06.94-2.06 2.06-.94-2.06-.94-.94-2.06-.94 2.06-2.06.94z\"/><path d=\"M17.41 7.96l-1.37-1.37c-.4-.4-.92-.59-1.43-.59-.52 0-1.04.2-1.43.59L10.3 9.45l-7.72 7.72c-.78.78-.78 2.05 0 2.83L4 21.41c.39.39.9.59 1.41.59.51 0 1.02-.2 1.41-.59l7.78-7.78 2.81-2.81c.8-.78.8-2.07 0-2.86zM5.41 20L4 18.59l7.72-7.72 1.47 1.35L5.41 20z\"/>\n",
              "  </svg>\n",
              "      </button>\n",
              "      \n",
              "  <style>\n",
              "    .colab-df-container {\n",
              "      display:flex;\n",
              "      flex-wrap:wrap;\n",
              "      gap: 12px;\n",
              "    }\n",
              "\n",
              "    .colab-df-convert {\n",
              "      background-color: #E8F0FE;\n",
              "      border: none;\n",
              "      border-radius: 50%;\n",
              "      cursor: pointer;\n",
              "      display: none;\n",
              "      fill: #1967D2;\n",
              "      height: 32px;\n",
              "      padding: 0 0 0 0;\n",
              "      width: 32px;\n",
              "    }\n",
              "\n",
              "    .colab-df-convert:hover {\n",
              "      background-color: #E2EBFA;\n",
              "      box-shadow: 0px 1px 2px rgba(60, 64, 67, 0.3), 0px 1px 3px 1px rgba(60, 64, 67, 0.15);\n",
              "      fill: #174EA6;\n",
              "    }\n",
              "\n",
              "    [theme=dark] .colab-df-convert {\n",
              "      background-color: #3B4455;\n",
              "      fill: #D2E3FC;\n",
              "    }\n",
              "\n",
              "    [theme=dark] .colab-df-convert:hover {\n",
              "      background-color: #434B5C;\n",
              "      box-shadow: 0px 1px 3px 1px rgba(0, 0, 0, 0.15);\n",
              "      filter: drop-shadow(0px 1px 2px rgba(0, 0, 0, 0.3));\n",
              "      fill: #FFFFFF;\n",
              "    }\n",
              "  </style>\n",
              "\n",
              "      <script>\n",
              "        const buttonEl =\n",
              "          document.querySelector('#df-0f3bf181-7884-4617-a6ec-56ec6877bcab button.colab-df-convert');\n",
              "        buttonEl.style.display =\n",
              "          google.colab.kernel.accessAllowed ? 'block' : 'none';\n",
              "\n",
              "        async function convertToInteractive(key) {\n",
              "          const element = document.querySelector('#df-0f3bf181-7884-4617-a6ec-56ec6877bcab');\n",
              "          const dataTable =\n",
              "            await google.colab.kernel.invokeFunction('convertToInteractive',\n",
              "                                                     [key], {});\n",
              "          if (!dataTable) return;\n",
              "\n",
              "          const docLinkHtml = 'Like what you see? Visit the ' +\n",
              "            '<a target=\"_blank\" href=https://colab.research.google.com/notebooks/data_table.ipynb>data table notebook</a>'\n",
              "            + ' to learn more about interactive tables.';\n",
              "          element.innerHTML = '';\n",
              "          dataTable['output_type'] = 'display_data';\n",
              "          await google.colab.output.renderOutput(dataTable, element);\n",
              "          const docLink = document.createElement('div');\n",
              "          docLink.innerHTML = docLinkHtml;\n",
              "          element.appendChild(docLink);\n",
              "        }\n",
              "      </script>\n",
              "    </div>\n",
              "  </div>\n",
              "  "
            ],
            "text/plain": [
              "                          Model  Accuracy  F1 Score  Precision    Recall\n",
              "0           Logistic Regression  0.319477  0.300481   0.540128  0.319477\n",
              "1  Random Forest Classification  0.882614  0.887626   0.901952  0.882614"
            ]
          },
          "execution_count": 49,
          "metadata": {},
          "output_type": "execute_result"
        }
      ],
      "source": [
        "acc = accuracy_score(y_test, y_pred)\n",
        "f1 = f1_score(y_test, y_pred, average='weighted') # Use weighted average for multiclass problem\n",
        "prec = precision_score(y_test, y_pred, average='weighted') # Use weighted average for multiclass problem\n",
        "rec = recall_score(y_test, y_pred, average='weighted') # Use weighted average for multiclass problem\n",
        "\n",
        "\n",
        "model_results = pd.DataFrame([['Random Forest Classification', acc, f1, prec, rec]],\n",
        "columns = ['Model','Accuracy','F1 Score','Precision','Recall'])\n",
        "\n",
        "results = results.append(model_results, ignore_index=True)\n",
        "\n",
        "results"
      ]
    },
    {
      "cell_type": "code",
      "execution_count": 50,
      "metadata": {
        "colab": {
          "base_uri": "https://localhost:8080/"
        },
        "id": "yiN4tqU1ar1U",
        "outputId": "c93fce7a-df47-47fe-cd5c-c83ba082c375"
      },
      "outputs": [
        {
          "name": "stdout",
          "output_type": "stream",
          "text": [
            "[[ 5394   274   309]\n",
            " [   46  1355    80]\n",
            " [  802   734 10131]]\n"
          ]
        }
      ],
      "source": [
        "cm_rf = confusion_matrix(y_test, y_pred)\n",
        "print(cm_rf)"
      ]
    },
    {
      "cell_type": "markdown",
      "metadata": {
        "id": "Esw4tu3KagYY"
      },
      "source": [
        "####Cross Validation"
      ]
    },
    {
      "cell_type": "code",
      "execution_count": 51,
      "metadata": {
        "colab": {
          "base_uri": "https://localhost:8080/"
        },
        "id": "LRjRpY9Ja1Ma",
        "outputId": "79c7562a-9c53-40dc-b608-1e14d142c9d7"
      },
      "outputs": [
        {
          "name": "stdout",
          "output_type": "stream",
          "text": [
            "Accuracy is 88.44 %\n",
            "Standard Deviation is 0.68 %\n"
          ]
        }
      ],
      "source": [
        "accuracy = cross_val_score(estimator=rf,X=X_train,y=y_train, cv=10)\n",
        "\n",
        "print(\"Accuracy is {:.2f} %\".format(accuracy.mean()*100))\n",
        "print(\"Standard Deviation is {:.2f} %\".format(accuracy.std()*100))"
      ]
    },
    {
      "cell_type": "markdown",
      "metadata": {
        "id": "lMSzXdBDabbc"
      },
      "source": [
        "###Deep Neural Network"
      ]
    },
    {
      "cell_type": "code",
      "execution_count": 52,
      "metadata": {
        "id": "vgHRJ_dpMTO5"
      },
      "outputs": [],
      "source": [
        "# Make a copy of train and test data\n",
        "X_train_cnn = X_train.copy()\n",
        "X_test_cnn = X_test.copy()\n",
        "y_train_cnn = y_train.copy()\n",
        "y_test_cnn = y_test.copy()\n"
      ]
    },
    {
      "cell_type": "code",
      "execution_count": 53,
      "metadata": {
        "colab": {
          "base_uri": "https://localhost:8080/",
          "height": 1000
        },
        "id": "cASHusR6l2a4",
        "outputId": "5056d932-3be4-4d8f-ed13-b110cf77385b"
      },
      "outputs": [
        {
          "name": "stderr",
          "output_type": "stream",
          "text": [
            "WARNING:absl:`lr` is deprecated in Keras optimizer, please use `learning_rate` or use the legacy optimizer, e.g.,tf.keras.optimizers.legacy.Adam.\n"
          ]
        },
        {
          "name": "stdout",
          "output_type": "stream",
          "text": [
            "Epoch 1/50\n",
            "576/576 [==============================] - 4s 5ms/step - loss: 0.9980 - accuracy: 0.4986 - val_loss: 0.9226 - val_accuracy: 0.5275\n",
            "Epoch 2/50\n",
            "576/576 [==============================] - 2s 4ms/step - loss: 0.9155 - accuracy: 0.5633 - val_loss: 0.8621 - val_accuracy: 0.5680\n",
            "Epoch 3/50\n",
            "576/576 [==============================] - 3s 6ms/step - loss: 0.8693 - accuracy: 0.5905 - val_loss: 0.8608 - val_accuracy: 0.5582\n",
            "Epoch 4/50\n",
            "576/576 [==============================] - 3s 5ms/step - loss: 0.8329 - accuracy: 0.6152 - val_loss: 0.8080 - val_accuracy: 0.6139\n",
            "Epoch 5/50\n",
            "576/576 [==============================] - 3s 5ms/step - loss: 0.7989 - accuracy: 0.6349 - val_loss: 0.8266 - val_accuracy: 0.5837\n",
            "Epoch 6/50\n",
            "576/576 [==============================] - 3s 5ms/step - loss: 0.7781 - accuracy: 0.6466 - val_loss: 0.7541 - val_accuracy: 0.6305\n",
            "Epoch 7/50\n",
            "576/576 [==============================] - 3s 5ms/step - loss: 0.7601 - accuracy: 0.6585 - val_loss: 0.7789 - val_accuracy: 0.6165\n",
            "Epoch 8/50\n",
            "576/576 [==============================] - 3s 5ms/step - loss: 0.7453 - accuracy: 0.6640 - val_loss: 0.7669 - val_accuracy: 0.6185\n",
            "Epoch 9/50\n",
            "576/576 [==============================] - 2s 4ms/step - loss: 0.7384 - accuracy: 0.6669 - val_loss: 0.7318 - val_accuracy: 0.6324\n",
            "Epoch 10/50\n",
            "576/576 [==============================] - 3s 5ms/step - loss: 0.7238 - accuracy: 0.6725 - val_loss: 0.7463 - val_accuracy: 0.6238\n",
            "Epoch 11/50\n",
            "576/576 [==============================] - 2s 4ms/step - loss: 0.7158 - accuracy: 0.6787 - val_loss: 0.7004 - val_accuracy: 0.6467\n",
            "Epoch 12/50\n",
            "576/576 [==============================] - 3s 6ms/step - loss: 0.7104 - accuracy: 0.6827 - val_loss: 0.7580 - val_accuracy: 0.6176\n",
            "Epoch 13/50\n",
            "576/576 [==============================] - 2s 4ms/step - loss: 0.7058 - accuracy: 0.6819 - val_loss: 0.6869 - val_accuracy: 0.6440\n",
            "Epoch 14/50\n",
            "576/576 [==============================] - 2s 4ms/step - loss: 0.6948 - accuracy: 0.6886 - val_loss: 0.7063 - val_accuracy: 0.6410\n",
            "Epoch 15/50\n",
            "576/576 [==============================] - 3s 5ms/step - loss: 0.6940 - accuracy: 0.6903 - val_loss: 0.6878 - val_accuracy: 0.6545\n",
            "Epoch 16/50\n",
            "576/576 [==============================] - 3s 5ms/step - loss: 0.6870 - accuracy: 0.6949 - val_loss: 0.6959 - val_accuracy: 0.6411\n",
            "Epoch 17/50\n",
            "576/576 [==============================] - 3s 5ms/step - loss: 0.6838 - accuracy: 0.6936 - val_loss: 0.6950 - val_accuracy: 0.6542\n",
            "Epoch 18/50\n",
            "576/576 [==============================] - 2s 4ms/step - loss: 0.6829 - accuracy: 0.6954 - val_loss: 0.6903 - val_accuracy: 0.6608\n",
            "Epoch 19/50\n",
            "576/576 [==============================] - 3s 5ms/step - loss: 0.6741 - accuracy: 0.7003 - val_loss: 0.6922 - val_accuracy: 0.6556\n",
            "Epoch 20/50\n",
            "576/576 [==============================] - 3s 5ms/step - loss: 0.6702 - accuracy: 0.6996 - val_loss: 0.6705 - val_accuracy: 0.6622\n",
            "Epoch 21/50\n",
            "576/576 [==============================] - 3s 6ms/step - loss: 0.6696 - accuracy: 0.7012 - val_loss: 0.6820 - val_accuracy: 0.6568\n",
            "Epoch 22/50\n",
            "576/576 [==============================] - 3s 5ms/step - loss: 0.6675 - accuracy: 0.7034 - val_loss: 0.6792 - val_accuracy: 0.6594\n",
            "Epoch 23/50\n",
            "576/576 [==============================] - 2s 4ms/step - loss: 0.6646 - accuracy: 0.7037 - val_loss: 0.6563 - val_accuracy: 0.6775\n",
            "Epoch 24/50\n",
            "576/576 [==============================] - 3s 5ms/step - loss: 0.6598 - accuracy: 0.7093 - val_loss: 0.6416 - val_accuracy: 0.6874\n",
            "Epoch 25/50\n",
            "576/576 [==============================] - 3s 4ms/step - loss: 0.6593 - accuracy: 0.7059 - val_loss: 0.6698 - val_accuracy: 0.6592\n",
            "Epoch 26/50\n",
            "576/576 [==============================] - 4s 6ms/step - loss: 0.6549 - accuracy: 0.7106 - val_loss: 0.6593 - val_accuracy: 0.6694\n",
            "Epoch 27/50\n",
            "576/576 [==============================] - 3s 5ms/step - loss: 0.6513 - accuracy: 0.7118 - val_loss: 0.6365 - val_accuracy: 0.6816\n",
            "Epoch 28/50\n",
            "576/576 [==============================] - 3s 5ms/step - loss: 0.6491 - accuracy: 0.7128 - val_loss: 0.6802 - val_accuracy: 0.6573\n",
            "Epoch 29/50\n",
            "576/576 [==============================] - 3s 5ms/step - loss: 0.6501 - accuracy: 0.7141 - val_loss: 0.6497 - val_accuracy: 0.6697\n",
            "Epoch 30/50\n",
            "576/576 [==============================] - 4s 7ms/step - loss: 0.6466 - accuracy: 0.7152 - val_loss: 0.6468 - val_accuracy: 0.6747\n",
            "Epoch 31/50\n",
            "576/576 [==============================] - 3s 5ms/step - loss: 0.6483 - accuracy: 0.7150 - val_loss: 0.6468 - val_accuracy: 0.6764\n",
            "Epoch 32/50\n",
            "576/576 [==============================] - 3s 5ms/step - loss: 0.6450 - accuracy: 0.7158 - val_loss: 0.6352 - val_accuracy: 0.6801\n",
            "Epoch 33/50\n",
            "576/576 [==============================] - 3s 5ms/step - loss: 0.6432 - accuracy: 0.7167 - val_loss: 0.6740 - val_accuracy: 0.6576\n",
            "Epoch 34/50\n",
            "576/576 [==============================] - 4s 7ms/step - loss: 0.6425 - accuracy: 0.7153 - val_loss: 0.6501 - val_accuracy: 0.6687\n",
            "Epoch 35/50\n",
            "576/576 [==============================] - 3s 5ms/step - loss: 0.6409 - accuracy: 0.7168 - val_loss: 0.6519 - val_accuracy: 0.6674\n",
            "Epoch 36/50\n",
            "576/576 [==============================] - 2s 4ms/step - loss: 0.6387 - accuracy: 0.7202 - val_loss: 0.6701 - val_accuracy: 0.6579\n",
            "Epoch 37/50\n",
            "576/576 [==============================] - 2s 4ms/step - loss: 0.6359 - accuracy: 0.7202 - val_loss: 0.6491 - val_accuracy: 0.6722\n",
            "Epoch 38/50\n",
            "576/576 [==============================] - 3s 5ms/step - loss: 0.6316 - accuracy: 0.7230 - val_loss: 0.6682 - val_accuracy: 0.6617\n",
            "Epoch 39/50\n",
            "576/576 [==============================] - 3s 6ms/step - loss: 0.6335 - accuracy: 0.7222 - val_loss: 0.6274 - val_accuracy: 0.6763\n",
            "Epoch 40/50\n",
            "576/576 [==============================] - 3s 5ms/step - loss: 0.6365 - accuracy: 0.7230 - val_loss: 0.6557 - val_accuracy: 0.6649\n",
            "Epoch 41/50\n",
            "576/576 [==============================] - 2s 4ms/step - loss: 0.6294 - accuracy: 0.7227 - val_loss: 0.6238 - val_accuracy: 0.6822\n",
            "Epoch 42/50\n",
            "576/576 [==============================] - 3s 6ms/step - loss: 0.6287 - accuracy: 0.7232 - val_loss: 0.6205 - val_accuracy: 0.6810\n",
            "Epoch 43/50\n",
            "576/576 [==============================] - 3s 5ms/step - loss: 0.6283 - accuracy: 0.7274 - val_loss: 0.6286 - val_accuracy: 0.6798\n",
            "Epoch 44/50\n",
            "576/576 [==============================] - 2s 4ms/step - loss: 0.6337 - accuracy: 0.7204 - val_loss: 0.6376 - val_accuracy: 0.6719\n",
            "Epoch 45/50\n",
            "576/576 [==============================] - 3s 5ms/step - loss: 0.6246 - accuracy: 0.7259 - val_loss: 0.6312 - val_accuracy: 0.6742\n",
            "Epoch 46/50\n",
            "576/576 [==============================] - 3s 5ms/step - loss: 0.6279 - accuracy: 0.7232 - val_loss: 0.6458 - val_accuracy: 0.6628\n",
            "Epoch 47/50\n",
            "576/576 [==============================] - 4s 7ms/step - loss: 0.6195 - accuracy: 0.7279 - val_loss: 0.6242 - val_accuracy: 0.6808\n",
            "Epoch 48/50\n",
            "576/576 [==============================] - 3s 5ms/step - loss: 0.6230 - accuracy: 0.7273 - val_loss: 0.6108 - val_accuracy: 0.6828\n",
            "Epoch 49/50\n",
            "576/576 [==============================] - 3s 5ms/step - loss: 0.6187 - accuracy: 0.7289 - val_loss: 0.6262 - val_accuracy: 0.6768\n",
            "Epoch 50/50\n",
            "576/576 [==============================] - 3s 5ms/step - loss: 0.6168 - accuracy: 0.7313 - val_loss: 0.6128 - val_accuracy: 0.6867\n",
            "598/598 [==============================] - 1s 1ms/step\n"
          ]
        },
        {
          "name": "stderr",
          "output_type": "stream",
          "text": [
            "<ipython-input-53-b419695d9e13>:41: FutureWarning: The frame.append method is deprecated and will be removed from pandas in a future version. Use pandas.concat instead.\n",
            "  results = results.append(model_results, ignore_index=True)\n"
          ]
        },
        {
          "data": {
            "text/html": [
              "\n",
              "  <div id=\"df-7896df38-568f-48a8-853e-4622b1251e69\">\n",
              "    <div class=\"colab-df-container\">\n",
              "      <div>\n",
              "<style scoped>\n",
              "    .dataframe tbody tr th:only-of-type {\n",
              "        vertical-align: middle;\n",
              "    }\n",
              "\n",
              "    .dataframe tbody tr th {\n",
              "        vertical-align: top;\n",
              "    }\n",
              "\n",
              "    .dataframe thead th {\n",
              "        text-align: right;\n",
              "    }\n",
              "</style>\n",
              "<table border=\"1\" class=\"dataframe\">\n",
              "  <thead>\n",
              "    <tr style=\"text-align: right;\">\n",
              "      <th></th>\n",
              "      <th>Model</th>\n",
              "      <th>Accuracy</th>\n",
              "      <th>F1 Score</th>\n",
              "      <th>Precision</th>\n",
              "      <th>Recall</th>\n",
              "    </tr>\n",
              "  </thead>\n",
              "  <tbody>\n",
              "    <tr>\n",
              "      <th>0</th>\n",
              "      <td>Logistic Regression</td>\n",
              "      <td>0.319477</td>\n",
              "      <td>0.300481</td>\n",
              "      <td>0.540128</td>\n",
              "      <td>0.319477</td>\n",
              "    </tr>\n",
              "    <tr>\n",
              "      <th>1</th>\n",
              "      <td>Random Forest Classification</td>\n",
              "      <td>0.882614</td>\n",
              "      <td>0.887626</td>\n",
              "      <td>0.901952</td>\n",
              "      <td>0.882614</td>\n",
              "    </tr>\n",
              "    <tr>\n",
              "      <th>2</th>\n",
              "      <td>CNN</td>\n",
              "      <td>0.686745</td>\n",
              "      <td>0.715990</td>\n",
              "      <td>0.808241</td>\n",
              "      <td>0.686745</td>\n",
              "    </tr>\n",
              "  </tbody>\n",
              "</table>\n",
              "</div>\n",
              "      <button class=\"colab-df-convert\" onclick=\"convertToInteractive('df-7896df38-568f-48a8-853e-4622b1251e69')\"\n",
              "              title=\"Convert this dataframe to an interactive table.\"\n",
              "              style=\"display:none;\">\n",
              "        \n",
              "  <svg xmlns=\"http://www.w3.org/2000/svg\" height=\"24px\"viewBox=\"0 0 24 24\"\n",
              "       width=\"24px\">\n",
              "    <path d=\"M0 0h24v24H0V0z\" fill=\"none\"/>\n",
              "    <path d=\"M18.56 5.44l.94 2.06.94-2.06 2.06-.94-2.06-.94-.94-2.06-.94 2.06-2.06.94zm-11 1L8.5 8.5l.94-2.06 2.06-.94-2.06-.94L8.5 2.5l-.94 2.06-2.06.94zm10 10l.94 2.06.94-2.06 2.06-.94-2.06-.94-.94-2.06-.94 2.06-2.06.94z\"/><path d=\"M17.41 7.96l-1.37-1.37c-.4-.4-.92-.59-1.43-.59-.52 0-1.04.2-1.43.59L10.3 9.45l-7.72 7.72c-.78.78-.78 2.05 0 2.83L4 21.41c.39.39.9.59 1.41.59.51 0 1.02-.2 1.41-.59l7.78-7.78 2.81-2.81c.8-.78.8-2.07 0-2.86zM5.41 20L4 18.59l7.72-7.72 1.47 1.35L5.41 20z\"/>\n",
              "  </svg>\n",
              "      </button>\n",
              "      \n",
              "  <style>\n",
              "    .colab-df-container {\n",
              "      display:flex;\n",
              "      flex-wrap:wrap;\n",
              "      gap: 12px;\n",
              "    }\n",
              "\n",
              "    .colab-df-convert {\n",
              "      background-color: #E8F0FE;\n",
              "      border: none;\n",
              "      border-radius: 50%;\n",
              "      cursor: pointer;\n",
              "      display: none;\n",
              "      fill: #1967D2;\n",
              "      height: 32px;\n",
              "      padding: 0 0 0 0;\n",
              "      width: 32px;\n",
              "    }\n",
              "\n",
              "    .colab-df-convert:hover {\n",
              "      background-color: #E2EBFA;\n",
              "      box-shadow: 0px 1px 2px rgba(60, 64, 67, 0.3), 0px 1px 3px 1px rgba(60, 64, 67, 0.15);\n",
              "      fill: #174EA6;\n",
              "    }\n",
              "\n",
              "    [theme=dark] .colab-df-convert {\n",
              "      background-color: #3B4455;\n",
              "      fill: #D2E3FC;\n",
              "    }\n",
              "\n",
              "    [theme=dark] .colab-df-convert:hover {\n",
              "      background-color: #434B5C;\n",
              "      box-shadow: 0px 1px 3px 1px rgba(0, 0, 0, 0.15);\n",
              "      filter: drop-shadow(0px 1px 2px rgba(0, 0, 0, 0.3));\n",
              "      fill: #FFFFFF;\n",
              "    }\n",
              "  </style>\n",
              "\n",
              "      <script>\n",
              "        const buttonEl =\n",
              "          document.querySelector('#df-7896df38-568f-48a8-853e-4622b1251e69 button.colab-df-convert');\n",
              "        buttonEl.style.display =\n",
              "          google.colab.kernel.accessAllowed ? 'block' : 'none';\n",
              "\n",
              "        async function convertToInteractive(key) {\n",
              "          const element = document.querySelector('#df-7896df38-568f-48a8-853e-4622b1251e69');\n",
              "          const dataTable =\n",
              "            await google.colab.kernel.invokeFunction('convertToInteractive',\n",
              "                                                     [key], {});\n",
              "          if (!dataTable) return;\n",
              "\n",
              "          const docLinkHtml = 'Like what you see? Visit the ' +\n",
              "            '<a target=\"_blank\" href=https://colab.research.google.com/notebooks/data_table.ipynb>data table notebook</a>'\n",
              "            + ' to learn more about interactive tables.';\n",
              "          element.innerHTML = '';\n",
              "          dataTable['output_type'] = 'display_data';\n",
              "          await google.colab.output.renderOutput(dataTable, element);\n",
              "          const docLink = document.createElement('div');\n",
              "          docLink.innerHTML = docLinkHtml;\n",
              "          element.appendChild(docLink);\n",
              "        }\n",
              "      </script>\n",
              "    </div>\n",
              "  </div>\n",
              "  "
            ],
            "text/plain": [
              "                          Model  Accuracy  F1 Score  Precision    Recall\n",
              "0           Logistic Regression  0.319477  0.300481   0.540128  0.319477\n",
              "1  Random Forest Classification  0.882614  0.887626   0.901952  0.882614\n",
              "2                           CNN  0.686745  0.715990   0.808241  0.686745"
            ]
          },
          "execution_count": 53,
          "metadata": {},
          "output_type": "execute_result"
        }
      ],
      "source": [
        "# Reshape the input data\n",
        "X_train = X_train_cnn.values.reshape((X_train_cnn.shape[0], X_train_cnn.shape[1], 1, 1))\n",
        "X_test = X_test_cnn.values.reshape((X_test_cnn.shape[0], X_test_cnn.shape[1], 1, 1))\n",
        "\n",
        "# Convert class labels to one-hot encoded vectors\n",
        "y_train = to_categorical(y_train_cnn, num_classes=3)\n",
        "y_test = to_categorical(y_test_cnn, num_classes=3)\n",
        "\n",
        "# Define the CNN model architecture\n",
        "model = Sequential()\n",
        "model.add(Conv2D(32, kernel_size=(3, 1), activation='relu', input_shape=(X_train.shape[1], 1, 1)))\n",
        "model.add(Conv2D(64, kernel_size=(3, 3), activation='relu', padding='same'))\n",
        "model.add(MaxPooling2D(pool_size=(1, 1)))\n",
        "model.add(Dropout(0.25))\n",
        "model.add(Flatten())\n",
        "model.add(Dense(128, activation='relu'))\n",
        "model.add(Dropout(0.5))\n",
        "model.add(Dense(3, activation='softmax'))\n",
        "\n",
        "# Compile the model\n",
        "model.compile(loss='categorical_crossentropy',\n",
        "              optimizer=Adam(lr=0.001),\n",
        "              metrics=['accuracy'])\n",
        "\n",
        "# Train the model\n",
        "model.fit(X_train, y_train, epochs=50, batch_size=32, validation_data=(X_test, y_test))\n",
        "\n",
        "\n",
        "# Predict on the test data\n",
        "y_pred = model.predict(X_test)\n",
        "y_pred = np.argmax(y_pred, axis=1)\n",
        "\n",
        "acc = accuracy_score(np.argmax(y_test, axis=1), y_pred)\n",
        "f1 = f1_score(np.argmax(y_test, axis=1), y_pred, average='weighted')\n",
        "prec = precision_score(np.argmax(y_test, axis=1), y_pred, average='weighted')\n",
        "rec = recall_score(np.argmax(y_test, axis=1), y_pred, average='weighted')\n",
        "\n",
        "model_results = pd.DataFrame([['CNN', acc, f1, prec, rec]],\n",
        "                             columns=['Model', 'Accuracy', 'F1 Score', 'Precision', 'Recall'])\n",
        "\n",
        "results = results.append(model_results, ignore_index=True)\n",
        "\n",
        "results\n"
      ]
    },
    {
      "cell_type": "code",
      "execution_count": 54,
      "metadata": {
        "colab": {
          "base_uri": "https://localhost:8080/"
        },
        "id": "oeLfy7nJPznV",
        "outputId": "98b207d4-3db4-4bea-ec83-c652386bf998"
      },
      "outputs": [
        {
          "name": "stdout",
          "output_type": "stream",
          "text": [
            "[[4619  905  453]\n",
            " [  67 1293  121]\n",
            " [1804 2641 7222]]\n"
          ]
        }
      ],
      "source": [
        "cm_cnn = confusion_matrix(np.argmax(y_test, axis=1), y_pred)\n",
        "print(cm_cnn)\n"
      ]
    },
    {
      "cell_type": "markdown",
      "metadata": {
        "id": "TP_me1lIODwC"
      },
      "source": [
        "**Conclusion:** *Based on the cross validations, F1 Score, Accuracies, etc. from Logistic Regression, Random Forest and Deep Neural Network models, we proceed our next step with higher accuracy and low STD which is* **Random Forest Model**"
      ]
    },
    {
      "cell_type": "code",
      "execution_count": 55,
      "metadata": {
        "colab": {
          "base_uri": "https://localhost:8080/",
          "height": 683
        },
        "id": "RArNnSJUXZMt",
        "outputId": "0582a9dd-230a-432c-821e-4f771f3092b7"
      },
      "outputs": [
        {
          "data": {
            "image/png": "[encoded data removed]",
            "text/plain": [
              "<Figure size 800x600 with 1 Axes>"
            ]
          },
          "metadata": {},
          "output_type": "display_data"
        }
      ],
      "source": [
        "model_names = results['Model']\n",
        "acc = results['Accuracy']\n",
        "f1 = results['F1 Score']\n",
        "prec = results['Precision']\n",
        "rec = results['Recall']\n",
        "\n",
        "x = np.arange(len(model_names))\n",
        "\n",
        "width = 0.2\n",
        "\n",
        "fig, ax = plt.subplots(figsize=(8, 6))\n",
        "\n",
        "rects1 = ax.bar(x - 1.5*width, acc, width, label='Accuracy')\n",
        "rects2 = ax.bar(x - 0.5*width, f1, width, label='F1 Score')\n",
        "rects3 = ax.bar(x + 0.5*width, prec, width, label='Precision')\n",
        "rects4 = ax.bar(x + 1.5*width, rec, width, label='Recall')\n",
        "\n",
        "ax.set_ylabel('Scores')\n",
        "ax.set_title('Model Performance Scores')\n",
        "ax.set_xticks(x)\n",
        "ax.set_xticklabels(model_names, rotation=45, ha='right')\n",
        "ax.legend()\n",
        "\n",
        "plt.show()"
      ]
    },
    {
      "cell_type": "code",
      "execution_count": 56,
      "metadata": {
        "colab": {
          "base_uri": "https://localhost:8080/"
        },
        "id": "CBRbmdB2gDY0",
        "outputId": "b250c59d-2df7-453c-c7e8-3c22bc1c9a29"
      },
      "outputs": [
        {
          "name": "stdout",
          "output_type": "stream",
          "text": [
            "Predicted stress level: 2.0\n"
          ]
        },
        {
          "name": "stderr",
          "output_type": "stream",
          "text": [
            "/usr/local/lib/python3.9/dist-packages/sklearn/base.py:439: UserWarning: X does not have valid feature names, but RandomForestClassifier was fitted with feature names\n",
            "  warnings.warn(\n"
          ]
        }
      ],
      "source": [
        "# Create a new data point to predict\n",
        "X_new = np.array([[5.5, 3.2, 1.5]])\n",
        "\n",
        "# Make the prediction\n",
        "y_pred = rf.predict(X_new)\n",
        "\n",
        "# Print the predicted stress\n",
        "print(\"Predicted stress level:\", y_pred[0])\n"
      ]
    },
    {
      "cell_type": "code",
      "execution_count": 59,
      "metadata": {
        "colab": {
          "base_uri": "https://localhost:8080/",
          "height": 573
        },
        "id": "bHH1IumlmkLJ",
        "outputId": "786c28c3-d8a8-4156-d736-21cb7ef4160c"
      },
      "outputs": [
        {
          "name": "stderr",
          "output_type": "stream",
          "text": [
            "<ipython-input-59-9922d9b4a6ee>:5: SettingWithCopyWarning: \n",
            "A value is trying to be set on a copy of a slice from a DataFrame.\n",
            "Try using .loc[row_indexer,col_indexer] = value instead\n",
            "\n",
            "See the caveats in the documentation: https://pandas.pydata.org/pandas-docs/stable/user_guide/indexing.html#returning-a-view-versus-a-copy\n",
            "  df['datetime'] = pd.to_datetime(df['datetime'])\n"
          ]
        },
        {
          "data": {
            "image/png": "[encoded data removed]",
            "text/plain": [
              "<Figure size 640x480 with 1 Axes>"
            ]
          },
          "metadata": {},
          "output_type": "display_data"
        }
      ],
      "source": [
        "# Extract the stress level and datetime columns\n",
        "df = df[['datetime', 'label']]\n",
        "\n",
        "# Convert datetime column to datetime format\n",
        "df['datetime'] = pd.to_datetime(df['datetime'])\n",
        "\n",
        "# Group the data by datetime and calculate the mean stress level for each timestamp\n",
        "df = df.groupby('datetime').mean()\n",
        "\n",
        "# Plot the stress level against time\n",
        "plt.plot(df.index, df['label'])\n",
        "plt.xlabel('Datetime')\n",
        "plt.ylabel('Stress level')\n",
        "plt.show()\n"
      ]
    },
    {
      "cell_type": "code",
      "execution_count": null,
      "metadata": {
        "id": "JsqyQCICcpkC"
      },
      "outputs": [],
      "source": []
    }
  ],
  "metadata": {
    "colab": {
      "provenance": [],
      "toc_visible": true
    },
    "kernelspec": {
      "display_name": "Python 3.10.5 64-bit",
      "language": "python",
      "name": "python3"
    },
    "language_info": {
      "codemirror_mode": {
        "name": "ipython",
        "version": 3
      },
      "file_extension": ".py",
      "mimetype": "text/x-python",
      "name": "python",
      "nbconvert_exporter": "python",
      "pygments_lexer": "ipython3",
      "version": "3.10.5"
    },
    "orig_nbformat": 4,
    "vscode": {
      "interpreter": {
        "hash": "9d9f77dbc155f35ec65c5fe18ee40e91e0ad1ba326ffd08e01cd89977eb04254"
      }
    }
  },
  "nbformat": 4,
  "nbformat_minor": 0
}
